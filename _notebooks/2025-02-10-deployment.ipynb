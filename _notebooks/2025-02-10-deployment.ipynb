{
 "cells": [
  {
   "cell_type": "raw",
   "metadata": {
    "vscode": {
     "languageId": "raw"
    }
   },
   "source": [
    "---\n",
    "layout: post\n",
    "title: Blog for deployment\n",
    "permalink: /deploymentblog\n",
    "comments: true\n",
    "sticky_rank: 1\n",
    "---"
   ]
  },
  {
   "cell_type": "markdown",
   "metadata": {},
   "source": [
    "## First change the ports"
   ]
  },
  {
   "cell_type": "markdown",
   "metadata": {},
   "source": [
    "<img width=\"541\" alt=\"Image\" src=\"https://github.com/user-attachments/assets/db3b1f2f-3ce6-4d99-bcf5-1f601262d07d\" />"
   ]
  },
  {
   "cell_type": "markdown",
   "metadata": {},
   "source": [
    "1. First we had to change the ports and then we also had to change all the apis fetch links as everyting is in our aws server now\n",
    "2. Next we have to go to the next step and show how we actually deployed in Ubuntu"
   ]
  },
  {
   "cell_type": "markdown",
   "metadata": {},
   "source": [
    "<img width=\"900\" alt=\"Image\" src=\"https://github.com/user-attachments/assets/5944ab9e-a692-4b04-a27f-6b567b22ccfa\" />\n",
    "\n",
    "- We need to ```docker-compose build``` to deploy our backend site, now that its deployed\n",
    "- Then run ```docker-compose up -d``` to deploy showing this and ```docker ps```\n",
    "\n",
    "<img width=\"900\" alt=\"Image\" src=\"https://github.com/user-attachments/assets/5083cf86-0373-4fdb-8ec5-f0b68d17bc7a\" />"
   ]
  },
  {
   "cell_type": "markdown",
   "metadata": {},
   "source": [
    "## Now that the server is up and running we need to check if the server is secured, dont wanna be insecure!\n",
    "\n",
    "1. If we go to our website backend we could check if its secure\n",
    "\n",
    "<img width=\"900\" alt=\"Image\" src=\"https://github.com/user-attachments/assets/3f521697-1a0f-4c94-ba29-62ca5c39ad65\" />"
   ]
  }
 ],
 "metadata": {
  "language_info": {
   "name": "python"
  }
 },
 "nbformat": 4,
 "nbformat_minor": 2
}
