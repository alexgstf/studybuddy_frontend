{
 "cells": [
  {
   "cell_type": "markdown",
   "metadata": {},
   "source": [
    "---\n",
    "layout: post\n",
    "title: User Stories\n",
    "description: User Stories\n",
    "permalink: /studybuddy_frontend/user_stories/\n",
    "toc: false\n",
    "comments: true\n",
    "author: Leon Fu, Alex gustaf, Alejandro Rubio, Marti Jorba, Darsh Darsh, Travis Callow\n",
    "---"
   ]
  },
  {
   "cell_type": "markdown",
   "metadata": {},
   "source": [
    "### User Story 1 - Marti Jorba"
   ]
  },
  {
   "cell_type": "markdown",
   "metadata": {},
   "source": [
    "#### As a student, I want a section that can be accessed from the home page that shows a school-related fun fact every time I load it, so that I can learn something new when I don't have anything else to study."
   ]
  }
 ],
 "metadata": {
  "language_info": {
   "name": "python"
  }
 },
 "nbformat": 4,
 "nbformat_minor": 2
}
